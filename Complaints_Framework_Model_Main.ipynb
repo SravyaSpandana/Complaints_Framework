{
  "nbformat": 4,
  "nbformat_minor": 0,
  "metadata": {
    "colab": {
      "name": "Complaints_Framework_Model_Main.ipynb",
      "version": "0.3.2",
      "provenance": [],
      "collapsed_sections": [],
      "include_colab_link": true
    },
    "kernelspec": {
      "name": "python3",
      "display_name": "Python 3"
    },
    "accelerator": "GPU"
  },
  "cells": [
    {
      "cell_type": "markdown",
      "metadata": {
        "id": "view-in-github",
        "colab_type": "text"
      },
      "source": [
        "[View in Colaboratory](https://colab.research.google.com/github/kalyanpichuka/Complaints_Framework/blob/master/Complaints_Framework_Model_Main.ipynb)"
      ]
    },
    {
      "metadata": {
        "id": "hcuJP6MmtPxQ",
        "colab_type": "code",
        "colab": {}
      },
      "cell_type": "code",
      "source": [
        "# IMPORTING NECESSARY PACKAGES\n",
        "import pandas as pd\n",
        "import numpy as np\n",
        "import matplotlib.pyplot as plt\n",
        "import os"
      ],
      "execution_count": 0,
      "outputs": []
    },
    {
      "metadata": {
        "id": "UAgaIOov2xLd",
        "colab_type": "code",
        "colab": {
          "base_uri": "https://localhost:8080/",
          "height": 105
        },
        "outputId": "7bb0861e-9b8d-4bbc-e776-072ab9fd64ca"
      },
      "cell_type": "code",
      "source": [
        "#GOOGLE DRIVE RELATED\n",
        "!apt-get install -y -qq software-properties-common python-software-properties module-init-tools\n",
        "!add-apt-repository -y ppa:alessandro-strada/ppa 2>&1 > /dev/null\n",
        "!apt-get update -qq 2>&1 > /dev/null\n",
        "!apt-get -y install -qq google-drive-ocamlfuse fuse\n",
        "from google.colab import auth\n",
        "auth.authenticate_user()\n",
        "from oauth2client.client import GoogleCredentials\n",
        "creds = GoogleCredentials.get_application_default()\n",
        "import getpass\n",
        "!google-drive-ocamlfuse -headless -id={creds.client_id} -secret={creds.client_secret} < /dev/null 2>&1 | grep URL\n",
        "vcode = getpass.getpass()\n",
        "!echo {vcode} | google-drive-ocamlfuse -headless -id={creds.client_id} -secret={creds.client_secret}"
      ],
      "execution_count": 3,
      "outputs": [
        {
          "output_type": "stream",
          "text": [
            "Please, open the following URL in a web browser: https://accounts.google.com/o/oauth2/auth?client_id=32555940559.apps.googleusercontent.com&redirect_uri=urn%3Aietf%3Awg%3Aoauth%3A2.0%3Aoob&scope=https%3A%2F%2Fwww.googleapis.com%2Fauth%2Fdrive&response_type=code&access_type=offline&approval_prompt=force\r\n",
            "··········\n",
            "Please, open the following URL in a web browser: https://accounts.google.com/o/oauth2/auth?client_id=32555940559.apps.googleusercontent.com&redirect_uri=urn%3Aietf%3Awg%3Aoauth%3A2.0%3Aoob&scope=https%3A%2F%2Fwww.googleapis.com%2Fauth%2Fdrive&response_type=code&access_type=offline&approval_prompt=force\n",
            "Please enter the verification code: Access token retrieved correctly.\n"
          ],
          "name": "stdout"
        }
      ]
    },
    {
      "metadata": {
        "id": "MWrH7zuh5fEv",
        "colab_type": "code",
        "colab": {}
      },
      "cell_type": "code",
      "source": [
        "#GOOGLE DRIVE RELATED\n",
        "!mkdir -p drive\n",
        "!google-drive-ocamlfuse drive"
      ],
      "execution_count": 0,
      "outputs": []
    },
    {
      "metadata": {
        "id": "BUN9evG359S4",
        "colab_type": "code",
        "colab": {}
      },
      "cell_type": "code",
      "source": [
        "data = pd.read_csv(\"drive/Complaints_Dataset/complaints-2018-07-20_02_20.csv\")"
      ],
      "execution_count": 0,
      "outputs": []
    },
    {
      "metadata": {
        "id": "lDW6HKRO6BfM",
        "colab_type": "code",
        "colab": {
          "base_uri": "https://localhost:8080/",
          "height": 513
        },
        "outputId": "18b62e11-dc33-4f07-f1aa-9b0eaaf002cb"
      },
      "cell_type": "code",
      "source": [
        "data.head()"
      ],
      "execution_count": 6,
      "outputs": [
        {
          "output_type": "execute_result",
          "data": {
            "text/html": [
              "<div>\n",
              "<style scoped>\n",
              "    .dataframe tbody tr th:only-of-type {\n",
              "        vertical-align: middle;\n",
              "    }\n",
              "\n",
              "    .dataframe tbody tr th {\n",
              "        vertical-align: top;\n",
              "    }\n",
              "\n",
              "    .dataframe thead th {\n",
              "        text-align: right;\n",
              "    }\n",
              "</style>\n",
              "<table border=\"1\" class=\"dataframe\">\n",
              "  <thead>\n",
              "    <tr style=\"text-align: right;\">\n",
              "      <th></th>\n",
              "      <th>Date received</th>\n",
              "      <th>Product</th>\n",
              "      <th>Sub-product</th>\n",
              "      <th>Issue</th>\n",
              "      <th>Sub-issue</th>\n",
              "      <th>Consumer complaint narrative</th>\n",
              "      <th>Company public response</th>\n",
              "      <th>Company</th>\n",
              "      <th>State</th>\n",
              "      <th>ZIP code</th>\n",
              "      <th>Tags</th>\n",
              "      <th>Consumer consent provided?</th>\n",
              "      <th>Submitted via</th>\n",
              "      <th>Date sent to company</th>\n",
              "      <th>Company response to consumer</th>\n",
              "      <th>Timely response?</th>\n",
              "      <th>Consumer disputed?</th>\n",
              "      <th>Complaint ID</th>\n",
              "    </tr>\n",
              "  </thead>\n",
              "  <tbody>\n",
              "    <tr>\n",
              "      <th>0</th>\n",
              "      <td>02/05/13</td>\n",
              "      <td>Mortgage</td>\n",
              "      <td>FHA mortgage</td>\n",
              "      <td>Loan servicing, payments, escrow account</td>\n",
              "      <td>NaN</td>\n",
              "      <td>NaN</td>\n",
              "      <td>NaN</td>\n",
              "      <td>BAYVIEW LOAN SERVICING, LLC</td>\n",
              "      <td>MA</td>\n",
              "      <td>02151</td>\n",
              "      <td>NaN</td>\n",
              "      <td>NaN</td>\n",
              "      <td>Web</td>\n",
              "      <td>02/06/13</td>\n",
              "      <td>Closed with explanation</td>\n",
              "      <td>Yes</td>\n",
              "      <td>No</td>\n",
              "      <td>301664</td>\n",
              "    </tr>\n",
              "    <tr>\n",
              "      <th>1</th>\n",
              "      <td>05/15/17</td>\n",
              "      <td>Mortgage</td>\n",
              "      <td>Other type of mortgage</td>\n",
              "      <td>Trouble during payment process</td>\n",
              "      <td>NaN</td>\n",
              "      <td>NaN</td>\n",
              "      <td>Company has responded to the consumer and the ...</td>\n",
              "      <td>BMO HARRIS BANK NATIONAL ASSOCIATION</td>\n",
              "      <td>IL</td>\n",
              "      <td>60165</td>\n",
              "      <td>NaN</td>\n",
              "      <td>NaN</td>\n",
              "      <td>Fax</td>\n",
              "      <td>05/17/17</td>\n",
              "      <td>Closed with explanation</td>\n",
              "      <td>Yes</td>\n",
              "      <td>NaN</td>\n",
              "      <td>2484441</td>\n",
              "    </tr>\n",
              "    <tr>\n",
              "      <th>2</th>\n",
              "      <td>09/24/14</td>\n",
              "      <td>Mortgage</td>\n",
              "      <td>Other mortgage</td>\n",
              "      <td>Loan modification,collection,foreclosure</td>\n",
              "      <td>NaN</td>\n",
              "      <td>NaN</td>\n",
              "      <td>NaN</td>\n",
              "      <td>Ditech Financial LLC</td>\n",
              "      <td>FL</td>\n",
              "      <td>34209</td>\n",
              "      <td>NaN</td>\n",
              "      <td>NaN</td>\n",
              "      <td>Referral</td>\n",
              "      <td>10/01/14</td>\n",
              "      <td>Closed with explanation</td>\n",
              "      <td>Yes</td>\n",
              "      <td>Yes</td>\n",
              "      <td>1043621</td>\n",
              "    </tr>\n",
              "    <tr>\n",
              "      <th>3</th>\n",
              "      <td>11/06/15</td>\n",
              "      <td>Mortgage</td>\n",
              "      <td>Other mortgage</td>\n",
              "      <td>Loan modification,collection,foreclosure</td>\n",
              "      <td>NaN</td>\n",
              "      <td>NaN</td>\n",
              "      <td>NaN</td>\n",
              "      <td>OCWEN LOAN SERVICING LLC</td>\n",
              "      <td>GA</td>\n",
              "      <td>30253</td>\n",
              "      <td>NaN</td>\n",
              "      <td>NaN</td>\n",
              "      <td>Referral</td>\n",
              "      <td>11/09/15</td>\n",
              "      <td>Closed with explanation</td>\n",
              "      <td>Yes</td>\n",
              "      <td>No</td>\n",
              "      <td>1643449</td>\n",
              "    </tr>\n",
              "    <tr>\n",
              "      <th>4</th>\n",
              "      <td>03/08/12</td>\n",
              "      <td>Mortgage</td>\n",
              "      <td>Conventional fixed mortgage</td>\n",
              "      <td>Loan modification,collection,foreclosure</td>\n",
              "      <td>NaN</td>\n",
              "      <td>NaN</td>\n",
              "      <td>NaN</td>\n",
              "      <td>CITIBANK, N.A.</td>\n",
              "      <td>NJ</td>\n",
              "      <td>07438</td>\n",
              "      <td>NaN</td>\n",
              "      <td>NaN</td>\n",
              "      <td>Referral</td>\n",
              "      <td>03/08/12</td>\n",
              "      <td>Untimely response</td>\n",
              "      <td>No</td>\n",
              "      <td>No</td>\n",
              "      <td>32218</td>\n",
              "    </tr>\n",
              "  </tbody>\n",
              "</table>\n",
              "</div>"
            ],
            "text/plain": [
              "  Date received   Product                  Sub-product  \\\n",
              "0      02/05/13  Mortgage                 FHA mortgage   \n",
              "1      05/15/17  Mortgage       Other type of mortgage   \n",
              "2      09/24/14  Mortgage               Other mortgage   \n",
              "3      11/06/15  Mortgage               Other mortgage   \n",
              "4      03/08/12  Mortgage  Conventional fixed mortgage   \n",
              "\n",
              "                                      Issue  Sub-issue  \\\n",
              "0  Loan servicing, payments, escrow account        NaN   \n",
              "1            Trouble during payment process        NaN   \n",
              "2  Loan modification,collection,foreclosure        NaN   \n",
              "3  Loan modification,collection,foreclosure        NaN   \n",
              "4  Loan modification,collection,foreclosure        NaN   \n",
              "\n",
              "  Consumer complaint narrative  \\\n",
              "0                          NaN   \n",
              "1                          NaN   \n",
              "2                          NaN   \n",
              "3                          NaN   \n",
              "4                          NaN   \n",
              "\n",
              "                             Company public response  \\\n",
              "0                                                NaN   \n",
              "1  Company has responded to the consumer and the ...   \n",
              "2                                                NaN   \n",
              "3                                                NaN   \n",
              "4                                                NaN   \n",
              "\n",
              "                                Company State ZIP code Tags  \\\n",
              "0           BAYVIEW LOAN SERVICING, LLC    MA    02151  NaN   \n",
              "1  BMO HARRIS BANK NATIONAL ASSOCIATION    IL    60165  NaN   \n",
              "2                  Ditech Financial LLC    FL    34209  NaN   \n",
              "3              OCWEN LOAN SERVICING LLC    GA    30253  NaN   \n",
              "4                        CITIBANK, N.A.    NJ    07438  NaN   \n",
              "\n",
              "  Consumer consent provided? Submitted via Date sent to company  \\\n",
              "0                        NaN           Web             02/06/13   \n",
              "1                        NaN           Fax             05/17/17   \n",
              "2                        NaN      Referral             10/01/14   \n",
              "3                        NaN      Referral             11/09/15   \n",
              "4                        NaN      Referral             03/08/12   \n",
              "\n",
              "  Company response to consumer Timely response? Consumer disputed?  \\\n",
              "0      Closed with explanation              Yes                 No   \n",
              "1      Closed with explanation              Yes                NaN   \n",
              "2      Closed with explanation              Yes                Yes   \n",
              "3      Closed with explanation              Yes                 No   \n",
              "4            Untimely response               No                 No   \n",
              "\n",
              "   Complaint ID  \n",
              "0        301664  \n",
              "1       2484441  \n",
              "2       1043621  \n",
              "3       1643449  \n",
              "4         32218  "
            ]
          },
          "metadata": {
            "tags": []
          },
          "execution_count": 6
        }
      ]
    },
    {
      "metadata": {
        "id": "7nLwqjwo6FeW",
        "colab_type": "code",
        "colab": {}
      },
      "cell_type": "code",
      "source": [
        "data = data[data.Company == 'WELLS FARGO & COMPANY']"
      ],
      "execution_count": 0,
      "outputs": []
    },
    {
      "metadata": {
        "id": "3Xh52LSB6LRZ",
        "colab_type": "code",
        "colab": {
          "base_uri": "https://localhost:8080/",
          "height": 479
        },
        "outputId": "3a5047a6-7dcf-4575-9607-a5a4672493b1"
      },
      "cell_type": "code",
      "source": [
        "data.head()"
      ],
      "execution_count": 8,
      "outputs": [
        {
          "output_type": "execute_result",
          "data": {
            "text/html": [
              "<div>\n",
              "<style scoped>\n",
              "    .dataframe tbody tr th:only-of-type {\n",
              "        vertical-align: middle;\n",
              "    }\n",
              "\n",
              "    .dataframe tbody tr th {\n",
              "        vertical-align: top;\n",
              "    }\n",
              "\n",
              "    .dataframe thead th {\n",
              "        text-align: right;\n",
              "    }\n",
              "</style>\n",
              "<table border=\"1\" class=\"dataframe\">\n",
              "  <thead>\n",
              "    <tr style=\"text-align: right;\">\n",
              "      <th></th>\n",
              "      <th>Date received</th>\n",
              "      <th>Product</th>\n",
              "      <th>Sub-product</th>\n",
              "      <th>Issue</th>\n",
              "      <th>Sub-issue</th>\n",
              "      <th>Consumer complaint narrative</th>\n",
              "      <th>Company public response</th>\n",
              "      <th>Company</th>\n",
              "      <th>State</th>\n",
              "      <th>ZIP code</th>\n",
              "      <th>Tags</th>\n",
              "      <th>Consumer consent provided?</th>\n",
              "      <th>Submitted via</th>\n",
              "      <th>Date sent to company</th>\n",
              "      <th>Company response to consumer</th>\n",
              "      <th>Timely response?</th>\n",
              "      <th>Consumer disputed?</th>\n",
              "      <th>Complaint ID</th>\n",
              "    </tr>\n",
              "  </thead>\n",
              "  <tbody>\n",
              "    <tr>\n",
              "      <th>17</th>\n",
              "      <td>12/05/16</td>\n",
              "      <td>Mortgage</td>\n",
              "      <td>FHA mortgage</td>\n",
              "      <td>Loan modification,collection,foreclosure</td>\n",
              "      <td>NaN</td>\n",
              "      <td>NaN</td>\n",
              "      <td>Company has responded to the consumer and the ...</td>\n",
              "      <td>WELLS FARGO &amp; COMPANY</td>\n",
              "      <td>NJ</td>\n",
              "      <td>07106</td>\n",
              "      <td>NaN</td>\n",
              "      <td>Consent not provided</td>\n",
              "      <td>Web</td>\n",
              "      <td>12/05/16</td>\n",
              "      <td>Closed with explanation</td>\n",
              "      <td>Yes</td>\n",
              "      <td>No</td>\n",
              "      <td>2236348</td>\n",
              "    </tr>\n",
              "    <tr>\n",
              "      <th>20</th>\n",
              "      <td>01/09/13</td>\n",
              "      <td>Mortgage</td>\n",
              "      <td>Other mortgage</td>\n",
              "      <td>Loan modification,collection,foreclosure</td>\n",
              "      <td>NaN</td>\n",
              "      <td>NaN</td>\n",
              "      <td>NaN</td>\n",
              "      <td>WELLS FARGO &amp; COMPANY</td>\n",
              "      <td>NY</td>\n",
              "      <td>11550</td>\n",
              "      <td>NaN</td>\n",
              "      <td>NaN</td>\n",
              "      <td>Referral</td>\n",
              "      <td>01/11/13</td>\n",
              "      <td>Closed with explanation</td>\n",
              "      <td>Yes</td>\n",
              "      <td>No</td>\n",
              "      <td>225262</td>\n",
              "    </tr>\n",
              "    <tr>\n",
              "      <th>24</th>\n",
              "      <td>06/02/14</td>\n",
              "      <td>Mortgage</td>\n",
              "      <td>Other mortgage</td>\n",
              "      <td>Application, originator, mortgage broker</td>\n",
              "      <td>NaN</td>\n",
              "      <td>NaN</td>\n",
              "      <td>NaN</td>\n",
              "      <td>WELLS FARGO &amp; COMPANY</td>\n",
              "      <td>VA</td>\n",
              "      <td>20109</td>\n",
              "      <td>NaN</td>\n",
              "      <td>NaN</td>\n",
              "      <td>Web</td>\n",
              "      <td>06/02/14</td>\n",
              "      <td>Closed with explanation</td>\n",
              "      <td>Yes</td>\n",
              "      <td>No</td>\n",
              "      <td>876185</td>\n",
              "    </tr>\n",
              "    <tr>\n",
              "      <th>34</th>\n",
              "      <td>03/18/14</td>\n",
              "      <td>Mortgage</td>\n",
              "      <td>Reverse mortgage</td>\n",
              "      <td>Settlement process and costs</td>\n",
              "      <td>NaN</td>\n",
              "      <td>NaN</td>\n",
              "      <td>NaN</td>\n",
              "      <td>WELLS FARGO &amp; COMPANY</td>\n",
              "      <td>CA</td>\n",
              "      <td>93311</td>\n",
              "      <td>NaN</td>\n",
              "      <td>NaN</td>\n",
              "      <td>Web</td>\n",
              "      <td>03/17/14</td>\n",
              "      <td>Closed with explanation</td>\n",
              "      <td>Yes</td>\n",
              "      <td>No</td>\n",
              "      <td>763623</td>\n",
              "    </tr>\n",
              "    <tr>\n",
              "      <th>37</th>\n",
              "      <td>08/06/13</td>\n",
              "      <td>Mortgage</td>\n",
              "      <td>FHA mortgage</td>\n",
              "      <td>Application, originator, mortgage broker</td>\n",
              "      <td>NaN</td>\n",
              "      <td>NaN</td>\n",
              "      <td>NaN</td>\n",
              "      <td>WELLS FARGO &amp; COMPANY</td>\n",
              "      <td>SD</td>\n",
              "      <td>57106</td>\n",
              "      <td>NaN</td>\n",
              "      <td>NaN</td>\n",
              "      <td>Web</td>\n",
              "      <td>08/07/13</td>\n",
              "      <td>Closed with explanation</td>\n",
              "      <td>Yes</td>\n",
              "      <td>Yes</td>\n",
              "      <td>481692</td>\n",
              "    </tr>\n",
              "  </tbody>\n",
              "</table>\n",
              "</div>"
            ],
            "text/plain": [
              "   Date received   Product       Sub-product  \\\n",
              "17      12/05/16  Mortgage      FHA mortgage   \n",
              "20      01/09/13  Mortgage    Other mortgage   \n",
              "24      06/02/14  Mortgage    Other mortgage   \n",
              "34      03/18/14  Mortgage  Reverse mortgage   \n",
              "37      08/06/13  Mortgage      FHA mortgage   \n",
              "\n",
              "                                       Issue  Sub-issue  \\\n",
              "17  Loan modification,collection,foreclosure        NaN   \n",
              "20  Loan modification,collection,foreclosure        NaN   \n",
              "24  Application, originator, mortgage broker        NaN   \n",
              "34              Settlement process and costs        NaN   \n",
              "37  Application, originator, mortgage broker        NaN   \n",
              "\n",
              "   Consumer complaint narrative  \\\n",
              "17                          NaN   \n",
              "20                          NaN   \n",
              "24                          NaN   \n",
              "34                          NaN   \n",
              "37                          NaN   \n",
              "\n",
              "                              Company public response                Company  \\\n",
              "17  Company has responded to the consumer and the ...  WELLS FARGO & COMPANY   \n",
              "20                                                NaN  WELLS FARGO & COMPANY   \n",
              "24                                                NaN  WELLS FARGO & COMPANY   \n",
              "34                                                NaN  WELLS FARGO & COMPANY   \n",
              "37                                                NaN  WELLS FARGO & COMPANY   \n",
              "\n",
              "   State ZIP code Tags Consumer consent provided? Submitted via  \\\n",
              "17    NJ    07106  NaN       Consent not provided           Web   \n",
              "20    NY    11550  NaN                        NaN      Referral   \n",
              "24    VA    20109  NaN                        NaN           Web   \n",
              "34    CA    93311  NaN                        NaN           Web   \n",
              "37    SD    57106  NaN                        NaN           Web   \n",
              "\n",
              "   Date sent to company Company response to consumer Timely response?  \\\n",
              "17             12/05/16      Closed with explanation              Yes   \n",
              "20             01/11/13      Closed with explanation              Yes   \n",
              "24             06/02/14      Closed with explanation              Yes   \n",
              "34             03/17/14      Closed with explanation              Yes   \n",
              "37             08/07/13      Closed with explanation              Yes   \n",
              "\n",
              "   Consumer disputed?  Complaint ID  \n",
              "17                 No       2236348  \n",
              "20                 No        225262  \n",
              "24                 No        876185  \n",
              "34                 No        763623  \n",
              "37                Yes        481692  "
            ]
          },
          "metadata": {
            "tags": []
          },
          "execution_count": 8
        }
      ]
    },
    {
      "metadata": {
        "id": "1OjRKr-G76pQ",
        "colab_type": "code",
        "colab": {
          "base_uri": "https://localhost:8080/",
          "height": 34
        },
        "outputId": "d27254f3-c6f4-434b-dbfd-1a0efc7a54a1"
      },
      "cell_type": "code",
      "source": [
        "data.shape"
      ],
      "execution_count": 9,
      "outputs": [
        {
          "output_type": "execute_result",
          "data": {
            "text/plain": [
              "(34481, 18)"
            ]
          },
          "metadata": {
            "tags": []
          },
          "execution_count": 9
        }
      ]
    },
    {
      "metadata": {
        "id": "pHpo_wll8Y3V",
        "colab_type": "code",
        "colab": {}
      },
      "cell_type": "code",
      "source": [
        "#req_cols = ['Date received','Issue','State','Submitted via', 'Date sent to company','Company reponse to consumer']\n",
        "req_cols = ['Date received','Issue','State','Submitted via', 'Date sent to company','Company response to consumer']"
      ],
      "execution_count": 0,
      "outputs": []
    },
    {
      "metadata": {
        "id": "0gw8YvFAAvDD",
        "colab_type": "code",
        "colab": {
          "base_uri": "https://localhost:8080/",
          "height": 119
        },
        "outputId": "02b64ea9-a6ae-402c-dbd9-6858f6a07718"
      },
      "cell_type": "code",
      "source": [
        "data.columns"
      ],
      "execution_count": 11,
      "outputs": [
        {
          "output_type": "execute_result",
          "data": {
            "text/plain": [
              "Index(['Date received', 'Product', 'Sub-product', 'Issue', 'Sub-issue',\n",
              "       'Consumer complaint narrative', 'Company public response', 'Company',\n",
              "       'State', 'ZIP code', 'Tags', 'Consumer consent provided?',\n",
              "       'Submitted via', 'Date sent to company', 'Company response to consumer',\n",
              "       'Timely response?', 'Consumer disputed?', 'Complaint ID'],\n",
              "      dtype='object')"
            ]
          },
          "metadata": {
            "tags": []
          },
          "execution_count": 11
        }
      ]
    },
    {
      "metadata": {
        "id": "bGaZu1Xc_K-j",
        "colab_type": "code",
        "colab": {}
      },
      "cell_type": "code",
      "source": [
        "data_req = data[req_cols]"
      ],
      "execution_count": 0,
      "outputs": []
    },
    {
      "metadata": {
        "id": "FKR2PBW-_QIk",
        "colab_type": "code",
        "colab": {
          "base_uri": "https://localhost:8080/",
          "height": 34
        },
        "outputId": "5c2b044e-c1a0-4f7f-8c8b-06bc91c34c20"
      },
      "cell_type": "code",
      "source": [
        "data_req.shape"
      ],
      "execution_count": 13,
      "outputs": [
        {
          "output_type": "execute_result",
          "data": {
            "text/plain": [
              "(34481, 6)"
            ]
          },
          "metadata": {
            "tags": []
          },
          "execution_count": 13
        }
      ]
    },
    {
      "metadata": {
        "id": "exaKtRM9B2yH",
        "colab_type": "code",
        "colab": {
          "base_uri": "https://localhost:8080/",
          "height": 68
        },
        "outputId": "e2e44ee1-5e6e-4e33-a050-871da935640e"
      },
      "cell_type": "code",
      "source": [
        "data_req.columns"
      ],
      "execution_count": 14,
      "outputs": [
        {
          "output_type": "execute_result",
          "data": {
            "text/plain": [
              "Index(['Date received', 'Issue', 'State', 'Submitted via',\n",
              "       'Date sent to company', 'Company response to consumer'],\n",
              "      dtype='object')"
            ]
          },
          "metadata": {
            "tags": []
          },
          "execution_count": 14
        }
      ]
    },
    {
      "metadata": {
        "id": "N0SM4rJYK0PK",
        "colab_type": "code",
        "colab": {
          "base_uri": "https://localhost:8080/",
          "height": 221
        },
        "outputId": "87d2cb28-cc29-4cb8-dffe-f71df860e287"
      },
      "cell_type": "code",
      "source": [
        "data_req['Date received']=pd.to_datetime(data_req['Date received'])\n",
        "data_req['Date sent to company']=pd.to_datetime(data_req['Date sent to company'])\n",
        "#data_req.loc[:,data_req.columns.get_loc(\"Date received\")] = pd.to_datetime(data_req['Date received'])\n",
        "#data_req.loc[:,data_req.columns.get_loc(\"Date sent to company\")] = pd.to_datetime(data_req['Date sent to company'])"
      ],
      "execution_count": 12,
      "outputs": [
        {
          "output_type": "stream",
          "text": [
            "/usr/local/lib/python3.6/dist-packages/ipykernel_launcher.py:1: SettingWithCopyWarning: \n",
            "A value is trying to be set on a copy of a slice from a DataFrame.\n",
            "Try using .loc[row_indexer,col_indexer] = value instead\n",
            "\n",
            "See the caveats in the documentation: http://pandas.pydata.org/pandas-docs/stable/indexing.html#indexing-view-versus-copy\n",
            "  \"\"\"Entry point for launching an IPython kernel.\n",
            "/usr/local/lib/python3.6/dist-packages/ipykernel_launcher.py:2: SettingWithCopyWarning: \n",
            "A value is trying to be set on a copy of a slice from a DataFrame.\n",
            "Try using .loc[row_indexer,col_indexer] = value instead\n",
            "\n",
            "See the caveats in the documentation: http://pandas.pydata.org/pandas-docs/stable/indexing.html#indexing-view-versus-copy\n",
            "  \n"
          ],
          "name": "stderr"
        }
      ]
    },
    {
      "metadata": {
        "id": "3Ck-NE03MZiX",
        "colab_type": "code",
        "colab": {
          "base_uri": "https://localhost:8080/",
          "height": 204
        },
        "outputId": "bd0afdac-d76c-4fa5-96d9-28cfeb0dbcad"
      },
      "cell_type": "code",
      "source": [
        "data_req.info()"
      ],
      "execution_count": 13,
      "outputs": [
        {
          "output_type": "stream",
          "text": [
            "<class 'pandas.core.frame.DataFrame'>\n",
            "Int64Index: 34481 entries, 17 to 259972\n",
            "Data columns (total 6 columns):\n",
            "Date received                   34481 non-null datetime64[ns]\n",
            "Issue                           34481 non-null object\n",
            "State                           34113 non-null object\n",
            "Submitted via                   34481 non-null object\n",
            "Date sent to company            34481 non-null datetime64[ns]\n",
            "Company response to consumer    34481 non-null object\n",
            "dtypes: datetime64[ns](2), object(4)\n",
            "memory usage: 1.8+ MB\n"
          ],
          "name": "stdout"
        }
      ]
    },
    {
      "metadata": {
        "id": "LUJfHbiaM48W",
        "colab_type": "code",
        "colab": {
          "base_uri": "https://localhost:8080/",
          "height": 119
        },
        "outputId": "495f270e-eb56-4ac4-81f0-ea864c3acfc2"
      },
      "cell_type": "code",
      "source": [
        "data_req['Total Days'] = data_req['Date sent to company']-data_req['Date received']\n",
        "#data_req.loc[:,data_req.columns.get_loc(\"Total Days\")] = data_req['Date sent to company']-data_req['Date received']"
      ],
      "execution_count": 14,
      "outputs": [
        {
          "output_type": "stream",
          "text": [
            "/usr/local/lib/python3.6/dist-packages/ipykernel_launcher.py:1: SettingWithCopyWarning: \n",
            "A value is trying to be set on a copy of a slice from a DataFrame.\n",
            "Try using .loc[row_indexer,col_indexer] = value instead\n",
            "\n",
            "See the caveats in the documentation: http://pandas.pydata.org/pandas-docs/stable/indexing.html#indexing-view-versus-copy\n",
            "  \"\"\"Entry point for launching an IPython kernel.\n"
          ],
          "name": "stderr"
        }
      ]
    },
    {
      "metadata": {
        "id": "r4yvSJWwNscO",
        "colab_type": "code",
        "colab": {
          "base_uri": "https://localhost:8080/",
          "height": 153
        },
        "outputId": "d383377e-06b0-42e8-b97c-5dc1c5d63838"
      },
      "cell_type": "code",
      "source": [
        "data_req.dtypes"
      ],
      "execution_count": 15,
      "outputs": [
        {
          "output_type": "execute_result",
          "data": {
            "text/plain": [
              "Date received                    datetime64[ns]\n",
              "Issue                                    object\n",
              "State                                    object\n",
              "Submitted via                            object\n",
              "Date sent to company             datetime64[ns]\n",
              "Company response to consumer             object\n",
              "Total Days                      timedelta64[ns]\n",
              "dtype: object"
            ]
          },
          "metadata": {
            "tags": []
          },
          "execution_count": 15
        }
      ]
    },
    {
      "metadata": {
        "id": "TI9NIxErOT6I",
        "colab_type": "code",
        "colab": {}
      },
      "cell_type": "code",
      "source": [
        "data_req=data_req.drop(data_req.columns[[0, 4]], axis=1)"
      ],
      "execution_count": 0,
      "outputs": []
    },
    {
      "metadata": {
        "id": "T-8lBkHDOvnM",
        "colab_type": "code",
        "colab": {
          "base_uri": "https://localhost:8080/",
          "height": 187
        },
        "outputId": "8b1e8d38-e00a-4a59-e149-a4d61a368857"
      },
      "cell_type": "code",
      "source": [
        "data_req.info()"
      ],
      "execution_count": 17,
      "outputs": [
        {
          "output_type": "stream",
          "text": [
            "<class 'pandas.core.frame.DataFrame'>\n",
            "Int64Index: 34481 entries, 17 to 259972\n",
            "Data columns (total 5 columns):\n",
            "Issue                           34481 non-null object\n",
            "State                           34113 non-null object\n",
            "Submitted via                   34481 non-null object\n",
            "Company response to consumer    34481 non-null object\n",
            "Total Days                      34481 non-null timedelta64[ns]\n",
            "dtypes: object(4), timedelta64[ns](1)\n",
            "memory usage: 2.8+ MB\n"
          ],
          "name": "stdout"
        }
      ]
    },
    {
      "metadata": {
        "id": "T-HIUdp9THnY",
        "colab_type": "code",
        "colab": {
          "base_uri": "https://localhost:8080/",
          "height": 289
        },
        "outputId": "8ef245ab-58dc-45e0-a79f-3b813d7219ff"
      },
      "cell_type": "code",
      "source": [
        "data_req['Issue'].value_counts(dropna=False)"
      ],
      "execution_count": 18,
      "outputs": [
        {
          "output_type": "execute_result",
          "data": {
            "text/plain": [
              "Loan modification,collection,foreclosure                                            17355\n",
              "Loan servicing, payments, escrow account                                             8032\n",
              "Application, originator, mortgage broker                                             2565\n",
              "Struggling to pay mortgage                                                           1698\n",
              "Trouble during payment process                                                       1458\n",
              "Settlement process and costs                                                         1087\n",
              "Credit decision / Underwriting                                                        862\n",
              "Other                                                                                 721\n",
              "Applying for a mortgage or refinancing an existing mortgage                           310\n",
              "Closing on a mortgage                                                                 233\n",
              "Incorrect information on your report                                                   78\n",
              "Applying for a mortgage                                                                55\n",
              "Problem with a credit reporting company's investigation into an existing problem       20\n",
              "Improper use of your report                                                             4\n",
              "Unable to get your credit report or credit score                                        3\n",
              "Name: Issue, dtype: int64"
            ]
          },
          "metadata": {
            "tags": []
          },
          "execution_count": 18
        }
      ]
    },
    {
      "metadata": {
        "id": "ihEUdbUnUvT_",
        "colab_type": "code",
        "colab": {
          "base_uri": "https://localhost:8080/",
          "height": 1071
        },
        "outputId": "10271f4f-96b2-472b-fda1-9b84640ebad7"
      },
      "cell_type": "code",
      "source": [
        "data_req['State'].value_counts(dropna=False)"
      ],
      "execution_count": 19,
      "outputs": [
        {
          "output_type": "execute_result",
          "data": {
            "text/plain": [
              "CA     6641\n",
              "FL     3580\n",
              "NY     2429\n",
              "NJ     2159\n",
              "GA     1662\n",
              "TX     1628\n",
              "MD     1355\n",
              "PA     1293\n",
              "VA     1092\n",
              "NC     1050\n",
              "IL     1041\n",
              "WA      797\n",
              "AZ      744\n",
              "OH      660\n",
              "MA      619\n",
              "MI      531\n",
              "CO      522\n",
              "MN      517\n",
              "OR      465\n",
              "SC      389\n",
              "CT      388\n",
              "NaN     368\n",
              "NV      364\n",
              "MO      346\n",
              "TN      331\n",
              "WI      329\n",
              "LA      257\n",
              "IN      250\n",
              "AL      248\n",
              "UT      194\n",
              "       ... \n",
              "NH      159\n",
              "KY      147\n",
              "IA      132\n",
              "NM      125\n",
              "OK      124\n",
              "HI      116\n",
              "NE      112\n",
              "KS      108\n",
              "ID      108\n",
              "AR      104\n",
              "ME       96\n",
              "MS       89\n",
              "RI       87\n",
              "AK       74\n",
              "MT       59\n",
              "WV       58\n",
              "SD       43\n",
              "WY       33\n",
              "VT       33\n",
              "ND       32\n",
              "AE        9\n",
              "AP        7\n",
              "PR        6\n",
              "VI        5\n",
              "AA        3\n",
              "GU        3\n",
              "MH        2\n",
              "FM        1\n",
              "AS        1\n",
              "PW        1\n",
              "Name: State, Length: 62, dtype: int64"
            ]
          },
          "metadata": {
            "tags": []
          },
          "execution_count": 19
        }
      ]
    },
    {
      "metadata": {
        "id": "USZY_CTRU1-U",
        "colab_type": "code",
        "colab": {
          "base_uri": "https://localhost:8080/",
          "height": 136
        },
        "outputId": "69391e0f-0f30-4605-e3d3-ae3fdcdfc86e"
      },
      "cell_type": "code",
      "source": [
        "data_req['Submitted via'].value_counts(dropna=False)"
      ],
      "execution_count": 20,
      "outputs": [
        {
          "output_type": "execute_result",
          "data": {
            "text/plain": [
              "Web            18362\n",
              "Referral       11457\n",
              "Phone           2006\n",
              "Postal mail     1876\n",
              "Fax              757\n",
              "Email             23\n",
              "Name: Submitted via, dtype: int64"
            ]
          },
          "metadata": {
            "tags": []
          },
          "execution_count": 20
        }
      ]
    },
    {
      "metadata": {
        "id": "0H3FpR3yVTiU",
        "colab_type": "code",
        "colab": {
          "base_uri": "https://localhost:8080/",
          "height": 170
        },
        "outputId": "88aaf4fc-15ad-4dd7-8988-f4a7b8b0ed85"
      },
      "cell_type": "code",
      "source": [
        "data_req['Company response to consumer'].value_counts(dropna=False)"
      ],
      "execution_count": 21,
      "outputs": [
        {
          "output_type": "execute_result",
          "data": {
            "text/plain": [
              "Closed with explanation            29511\n",
              "Closed without relief               1965\n",
              "Closed with non-monetary relief     1640\n",
              "Closed with monetary relief         1068\n",
              "In progress                          166\n",
              "Closed                                70\n",
              "Closed with relief                    57\n",
              "Untimely response                      4\n",
              "Name: Company response to consumer, dtype: int64"
            ]
          },
          "metadata": {
            "tags": []
          },
          "execution_count": 21
        }
      ]
    },
    {
      "metadata": {
        "id": "VsgpYY56VbDl",
        "colab_type": "code",
        "colab": {
          "base_uri": "https://localhost:8080/",
          "height": 1071
        },
        "outputId": "bcc83670-eeda-4ac2-b590-451734e0ad6d"
      },
      "cell_type": "code",
      "source": [
        "data_req['Total Days'].value_counts(dropna=False)"
      ],
      "execution_count": 22,
      "outputs": [
        {
          "output_type": "execute_result",
          "data": {
            "text/plain": [
              "0 days      13804\n",
              "1 days       6099\n",
              "2 days       3419\n",
              "3 days       2574\n",
              "4 days       2385\n",
              "5 days       2030\n",
              "6 days       1308\n",
              "7 days        839\n",
              "8 days        289\n",
              "-1 days       183\n",
              "9 days        145\n",
              "10 days       144\n",
              "15 days        96\n",
              "13 days        92\n",
              "11 days        86\n",
              "12 days        86\n",
              "14 days        70\n",
              "17 days        65\n",
              "16 days        44\n",
              "19 days        40\n",
              "35 days        36\n",
              "22 days        36\n",
              "18 days        33\n",
              "21 days        33\n",
              "20 days        33\n",
              "28 days        24\n",
              "29 days        24\n",
              "23 days        24\n",
              "39 days        22\n",
              "36 days        22\n",
              "            ...  \n",
              "253 days        1\n",
              "227 days        1\n",
              "214 days        1\n",
              "182 days        1\n",
              "188 days        1\n",
              "175 days        1\n",
              "234 days        1\n",
              "89 days         1\n",
              "130 days        1\n",
              "232 days        1\n",
              "140 days        1\n",
              "87 days         1\n",
              "74 days         1\n",
              "61 days         1\n",
              "250 days        1\n",
              "211 days        1\n",
              "400 days        1\n",
              "257 days        1\n",
              "104 days        1\n",
              "101 days        1\n",
              "258 days        1\n",
              "88 days         1\n",
              "290 days        1\n",
              "75 days         1\n",
              "238 days        1\n",
              "225 days        1\n",
              "117 days        1\n",
              "388 days        1\n",
              "82 days         1\n",
              "192 days        1\n",
              "Name: Total Days, Length: 149, dtype: int64"
            ]
          },
          "metadata": {
            "tags": []
          },
          "execution_count": 22
        }
      ]
    },
    {
      "metadata": {
        "id": "VVYWjSUuWK5W",
        "colab_type": "code",
        "colab": {}
      },
      "cell_type": "code",
      "source": [
        "data_req=data_req.dropna(how='any')  "
      ],
      "execution_count": 0,
      "outputs": []
    },
    {
      "metadata": {
        "id": "xzu-XLi5Y42B",
        "colab_type": "code",
        "colab": {
          "base_uri": "https://localhost:8080/",
          "height": 187
        },
        "outputId": "7d04712f-a5eb-4445-f57a-39117be6724d"
      },
      "cell_type": "code",
      "source": [
        "data_req.info()"
      ],
      "execution_count": 24,
      "outputs": [
        {
          "output_type": "stream",
          "text": [
            "<class 'pandas.core.frame.DataFrame'>\n",
            "Int64Index: 34113 entries, 17 to 259972\n",
            "Data columns (total 5 columns):\n",
            "Issue                           34113 non-null object\n",
            "State                           34113 non-null object\n",
            "Submitted via                   34113 non-null object\n",
            "Company response to consumer    34113 non-null object\n",
            "Total Days                      34113 non-null timedelta64[ns]\n",
            "dtypes: object(4), timedelta64[ns](1)\n",
            "memory usage: 1.6+ MB\n"
          ],
          "name": "stdout"
        }
      ]
    },
    {
      "metadata": {
        "id": "wmKey6UyY9qd",
        "colab_type": "code",
        "colab": {}
      },
      "cell_type": "code",
      "source": [
        "#data_req[:5]['Total Days'] / np.timedelta64(1, 's')\n",
        "data_req.index = range(data_req.shape[0])"
      ],
      "execution_count": 0,
      "outputs": []
    },
    {
      "metadata": {
        "id": "hwOfmmY_ZnaR",
        "colab_type": "code",
        "colab": {
          "base_uri": "https://localhost:8080/",
          "height": 187
        },
        "outputId": "6c51f31f-de51-42a3-fedf-0bda8c3c8ff4"
      },
      "cell_type": "code",
      "source": [
        "data_req.info()"
      ],
      "execution_count": 27,
      "outputs": [
        {
          "output_type": "stream",
          "text": [
            "<class 'pandas.core.frame.DataFrame'>\n",
            "RangeIndex: 34113 entries, 0 to 34112\n",
            "Data columns (total 5 columns):\n",
            "Issue                           34113 non-null object\n",
            "State                           34113 non-null object\n",
            "Submitted via                   34113 non-null object\n",
            "Company response to consumer    34113 non-null object\n",
            "Total Days                      34113 non-null timedelta64[ns]\n",
            "dtypes: object(4), timedelta64[ns](1)\n",
            "memory usage: 1.3+ MB\n"
          ],
          "name": "stdout"
        }
      ]
    },
    {
      "metadata": {
        "id": "V5vyI8aTekLn",
        "colab_type": "code",
        "colab": {
          "base_uri": "https://localhost:8080/",
          "height": 343
        },
        "outputId": "53a2b6ee-9efb-4468-ac22-b401068a8d10"
      },
      "cell_type": "code",
      "source": [
        "dumy=pd.get_dummies(data_req['Issue'])\n",
        "dumy.head()"
      ],
      "execution_count": 28,
      "outputs": [
        {
          "output_type": "execute_result",
          "data": {
            "text/html": [
              "<div>\n",
              "<style scoped>\n",
              "    .dataframe tbody tr th:only-of-type {\n",
              "        vertical-align: middle;\n",
              "    }\n",
              "\n",
              "    .dataframe tbody tr th {\n",
              "        vertical-align: top;\n",
              "    }\n",
              "\n",
              "    .dataframe thead th {\n",
              "        text-align: right;\n",
              "    }\n",
              "</style>\n",
              "<table border=\"1\" class=\"dataframe\">\n",
              "  <thead>\n",
              "    <tr style=\"text-align: right;\">\n",
              "      <th></th>\n",
              "      <th>Application, originator, mortgage broker</th>\n",
              "      <th>Applying for a mortgage</th>\n",
              "      <th>Applying for a mortgage or refinancing an existing mortgage</th>\n",
              "      <th>Closing on a mortgage</th>\n",
              "      <th>Credit decision / Underwriting</th>\n",
              "      <th>Improper use of your report</th>\n",
              "      <th>Incorrect information on your report</th>\n",
              "      <th>Loan modification,collection,foreclosure</th>\n",
              "      <th>Loan servicing, payments, escrow account</th>\n",
              "      <th>Other</th>\n",
              "      <th>Problem with a credit reporting company's investigation into an existing problem</th>\n",
              "      <th>Settlement process and costs</th>\n",
              "      <th>Struggling to pay mortgage</th>\n",
              "      <th>Trouble during payment process</th>\n",
              "      <th>Unable to get your credit report or credit score</th>\n",
              "    </tr>\n",
              "  </thead>\n",
              "  <tbody>\n",
              "    <tr>\n",
              "      <th>0</th>\n",
              "      <td>0</td>\n",
              "      <td>0</td>\n",
              "      <td>0</td>\n",
              "      <td>0</td>\n",
              "      <td>0</td>\n",
              "      <td>0</td>\n",
              "      <td>0</td>\n",
              "      <td>1</td>\n",
              "      <td>0</td>\n",
              "      <td>0</td>\n",
              "      <td>0</td>\n",
              "      <td>0</td>\n",
              "      <td>0</td>\n",
              "      <td>0</td>\n",
              "      <td>0</td>\n",
              "    </tr>\n",
              "    <tr>\n",
              "      <th>1</th>\n",
              "      <td>0</td>\n",
              "      <td>0</td>\n",
              "      <td>0</td>\n",
              "      <td>0</td>\n",
              "      <td>0</td>\n",
              "      <td>0</td>\n",
              "      <td>0</td>\n",
              "      <td>1</td>\n",
              "      <td>0</td>\n",
              "      <td>0</td>\n",
              "      <td>0</td>\n",
              "      <td>0</td>\n",
              "      <td>0</td>\n",
              "      <td>0</td>\n",
              "      <td>0</td>\n",
              "    </tr>\n",
              "    <tr>\n",
              "      <th>2</th>\n",
              "      <td>1</td>\n",
              "      <td>0</td>\n",
              "      <td>0</td>\n",
              "      <td>0</td>\n",
              "      <td>0</td>\n",
              "      <td>0</td>\n",
              "      <td>0</td>\n",
              "      <td>0</td>\n",
              "      <td>0</td>\n",
              "      <td>0</td>\n",
              "      <td>0</td>\n",
              "      <td>0</td>\n",
              "      <td>0</td>\n",
              "      <td>0</td>\n",
              "      <td>0</td>\n",
              "    </tr>\n",
              "    <tr>\n",
              "      <th>3</th>\n",
              "      <td>0</td>\n",
              "      <td>0</td>\n",
              "      <td>0</td>\n",
              "      <td>0</td>\n",
              "      <td>0</td>\n",
              "      <td>0</td>\n",
              "      <td>0</td>\n",
              "      <td>0</td>\n",
              "      <td>0</td>\n",
              "      <td>0</td>\n",
              "      <td>0</td>\n",
              "      <td>1</td>\n",
              "      <td>0</td>\n",
              "      <td>0</td>\n",
              "      <td>0</td>\n",
              "    </tr>\n",
              "    <tr>\n",
              "      <th>4</th>\n",
              "      <td>1</td>\n",
              "      <td>0</td>\n",
              "      <td>0</td>\n",
              "      <td>0</td>\n",
              "      <td>0</td>\n",
              "      <td>0</td>\n",
              "      <td>0</td>\n",
              "      <td>0</td>\n",
              "      <td>0</td>\n",
              "      <td>0</td>\n",
              "      <td>0</td>\n",
              "      <td>0</td>\n",
              "      <td>0</td>\n",
              "      <td>0</td>\n",
              "      <td>0</td>\n",
              "    </tr>\n",
              "  </tbody>\n",
              "</table>\n",
              "</div>"
            ],
            "text/plain": [
              "   Application, originator, mortgage broker  Applying for a mortgage  \\\n",
              "0                                         0                        0   \n",
              "1                                         0                        0   \n",
              "2                                         1                        0   \n",
              "3                                         0                        0   \n",
              "4                                         1                        0   \n",
              "\n",
              "   Applying for a mortgage or refinancing an existing mortgage  \\\n",
              "0                                                  0             \n",
              "1                                                  0             \n",
              "2                                                  0             \n",
              "3                                                  0             \n",
              "4                                                  0             \n",
              "\n",
              "   Closing on a mortgage  Credit decision / Underwriting  \\\n",
              "0                      0                               0   \n",
              "1                      0                               0   \n",
              "2                      0                               0   \n",
              "3                      0                               0   \n",
              "4                      0                               0   \n",
              "\n",
              "   Improper use of your report  Incorrect information on your report  \\\n",
              "0                            0                                     0   \n",
              "1                            0                                     0   \n",
              "2                            0                                     0   \n",
              "3                            0                                     0   \n",
              "4                            0                                     0   \n",
              "\n",
              "   Loan modification,collection,foreclosure  \\\n",
              "0                                         1   \n",
              "1                                         1   \n",
              "2                                         0   \n",
              "3                                         0   \n",
              "4                                         0   \n",
              "\n",
              "   Loan servicing, payments, escrow account  Other  \\\n",
              "0                                         0      0   \n",
              "1                                         0      0   \n",
              "2                                         0      0   \n",
              "3                                         0      0   \n",
              "4                                         0      0   \n",
              "\n",
              "   Problem with a credit reporting company's investigation into an existing problem  \\\n",
              "0                                                  0                                  \n",
              "1                                                  0                                  \n",
              "2                                                  0                                  \n",
              "3                                                  0                                  \n",
              "4                                                  0                                  \n",
              "\n",
              "   Settlement process and costs  Struggling to pay mortgage  \\\n",
              "0                             0                           0   \n",
              "1                             0                           0   \n",
              "2                             0                           0   \n",
              "3                             1                           0   \n",
              "4                             0                           0   \n",
              "\n",
              "   Trouble during payment process  \\\n",
              "0                               0   \n",
              "1                               0   \n",
              "2                               0   \n",
              "3                               0   \n",
              "4                               0   \n",
              "\n",
              "   Unable to get your credit report or credit score  \n",
              "0                                                 0  \n",
              "1                                                 0  \n",
              "2                                                 0  \n",
              "3                                                 0  \n",
              "4                                                 0  "
            ]
          },
          "metadata": {
            "tags": []
          },
          "execution_count": 28
        }
      ]
    },
    {
      "metadata": {
        "id": "4pOTiC_6ekge",
        "colab_type": "code",
        "colab": {
          "base_uri": "https://localhost:8080/",
          "height": 34
        },
        "outputId": "ae7befeb-65a5-4dc3-bea4-f8bf28327cb4"
      },
      "cell_type": "code",
      "source": [
        "data_req_new = pd.concat([data_req,dumy],axis=1)\n",
        "data_req_new.shape"
      ],
      "execution_count": 29,
      "outputs": [
        {
          "output_type": "execute_result",
          "data": {
            "text/plain": [
              "(34113, 20)"
            ]
          },
          "metadata": {
            "tags": []
          },
          "execution_count": 29
        }
      ]
    },
    {
      "metadata": {
        "id": "JYD7wapMek0u",
        "colab_type": "code",
        "colab": {
          "base_uri": "https://localhost:8080/",
          "height": 233
        },
        "outputId": "fc877fbb-27d1-43b4-9283-187aa5c516ba"
      },
      "cell_type": "code",
      "source": [
        "dumy=pd.get_dummies(data_req['State'])\n",
        "dumy.head()"
      ],
      "execution_count": 30,
      "outputs": [
        {
          "output_type": "execute_result",
          "data": {
            "text/html": [
              "<div>\n",
              "<style scoped>\n",
              "    .dataframe tbody tr th:only-of-type {\n",
              "        vertical-align: middle;\n",
              "    }\n",
              "\n",
              "    .dataframe tbody tr th {\n",
              "        vertical-align: top;\n",
              "    }\n",
              "\n",
              "    .dataframe thead th {\n",
              "        text-align: right;\n",
              "    }\n",
              "</style>\n",
              "<table border=\"1\" class=\"dataframe\">\n",
              "  <thead>\n",
              "    <tr style=\"text-align: right;\">\n",
              "      <th></th>\n",
              "      <th>AA</th>\n",
              "      <th>AE</th>\n",
              "      <th>AK</th>\n",
              "      <th>AL</th>\n",
              "      <th>AP</th>\n",
              "      <th>AR</th>\n",
              "      <th>AS</th>\n",
              "      <th>AZ</th>\n",
              "      <th>CA</th>\n",
              "      <th>CO</th>\n",
              "      <th>...</th>\n",
              "      <th>TN</th>\n",
              "      <th>TX</th>\n",
              "      <th>UT</th>\n",
              "      <th>VA</th>\n",
              "      <th>VI</th>\n",
              "      <th>VT</th>\n",
              "      <th>WA</th>\n",
              "      <th>WI</th>\n",
              "      <th>WV</th>\n",
              "      <th>WY</th>\n",
              "    </tr>\n",
              "  </thead>\n",
              "  <tbody>\n",
              "    <tr>\n",
              "      <th>0</th>\n",
              "      <td>0</td>\n",
              "      <td>0</td>\n",
              "      <td>0</td>\n",
              "      <td>0</td>\n",
              "      <td>0</td>\n",
              "      <td>0</td>\n",
              "      <td>0</td>\n",
              "      <td>0</td>\n",
              "      <td>0</td>\n",
              "      <td>0</td>\n",
              "      <td>...</td>\n",
              "      <td>0</td>\n",
              "      <td>0</td>\n",
              "      <td>0</td>\n",
              "      <td>0</td>\n",
              "      <td>0</td>\n",
              "      <td>0</td>\n",
              "      <td>0</td>\n",
              "      <td>0</td>\n",
              "      <td>0</td>\n",
              "      <td>0</td>\n",
              "    </tr>\n",
              "    <tr>\n",
              "      <th>1</th>\n",
              "      <td>0</td>\n",
              "      <td>0</td>\n",
              "      <td>0</td>\n",
              "      <td>0</td>\n",
              "      <td>0</td>\n",
              "      <td>0</td>\n",
              "      <td>0</td>\n",
              "      <td>0</td>\n",
              "      <td>0</td>\n",
              "      <td>0</td>\n",
              "      <td>...</td>\n",
              "      <td>0</td>\n",
              "      <td>0</td>\n",
              "      <td>0</td>\n",
              "      <td>0</td>\n",
              "      <td>0</td>\n",
              "      <td>0</td>\n",
              "      <td>0</td>\n",
              "      <td>0</td>\n",
              "      <td>0</td>\n",
              "      <td>0</td>\n",
              "    </tr>\n",
              "    <tr>\n",
              "      <th>2</th>\n",
              "      <td>0</td>\n",
              "      <td>0</td>\n",
              "      <td>0</td>\n",
              "      <td>0</td>\n",
              "      <td>0</td>\n",
              "      <td>0</td>\n",
              "      <td>0</td>\n",
              "      <td>0</td>\n",
              "      <td>0</td>\n",
              "      <td>0</td>\n",
              "      <td>...</td>\n",
              "      <td>0</td>\n",
              "      <td>0</td>\n",
              "      <td>0</td>\n",
              "      <td>1</td>\n",
              "      <td>0</td>\n",
              "      <td>0</td>\n",
              "      <td>0</td>\n",
              "      <td>0</td>\n",
              "      <td>0</td>\n",
              "      <td>0</td>\n",
              "    </tr>\n",
              "    <tr>\n",
              "      <th>3</th>\n",
              "      <td>0</td>\n",
              "      <td>0</td>\n",
              "      <td>0</td>\n",
              "      <td>0</td>\n",
              "      <td>0</td>\n",
              "      <td>0</td>\n",
              "      <td>0</td>\n",
              "      <td>0</td>\n",
              "      <td>1</td>\n",
              "      <td>0</td>\n",
              "      <td>...</td>\n",
              "      <td>0</td>\n",
              "      <td>0</td>\n",
              "      <td>0</td>\n",
              "      <td>0</td>\n",
              "      <td>0</td>\n",
              "      <td>0</td>\n",
              "      <td>0</td>\n",
              "      <td>0</td>\n",
              "      <td>0</td>\n",
              "      <td>0</td>\n",
              "    </tr>\n",
              "    <tr>\n",
              "      <th>4</th>\n",
              "      <td>0</td>\n",
              "      <td>0</td>\n",
              "      <td>0</td>\n",
              "      <td>0</td>\n",
              "      <td>0</td>\n",
              "      <td>0</td>\n",
              "      <td>0</td>\n",
              "      <td>0</td>\n",
              "      <td>0</td>\n",
              "      <td>0</td>\n",
              "      <td>...</td>\n",
              "      <td>0</td>\n",
              "      <td>0</td>\n",
              "      <td>0</td>\n",
              "      <td>0</td>\n",
              "      <td>0</td>\n",
              "      <td>0</td>\n",
              "      <td>0</td>\n",
              "      <td>0</td>\n",
              "      <td>0</td>\n",
              "      <td>0</td>\n",
              "    </tr>\n",
              "  </tbody>\n",
              "</table>\n",
              "<p>5 rows × 61 columns</p>\n",
              "</div>"
            ],
            "text/plain": [
              "   AA  AE  AK  AL  AP  AR  AS  AZ  CA  CO ...  TN  TX  UT  VA  VI  VT  WA  WI  \\\n",
              "0   0   0   0   0   0   0   0   0   0   0 ...   0   0   0   0   0   0   0   0   \n",
              "1   0   0   0   0   0   0   0   0   0   0 ...   0   0   0   0   0   0   0   0   \n",
              "2   0   0   0   0   0   0   0   0   0   0 ...   0   0   0   1   0   0   0   0   \n",
              "3   0   0   0   0   0   0   0   0   1   0 ...   0   0   0   0   0   0   0   0   \n",
              "4   0   0   0   0   0   0   0   0   0   0 ...   0   0   0   0   0   0   0   0   \n",
              "\n",
              "   WV  WY  \n",
              "0   0   0  \n",
              "1   0   0  \n",
              "2   0   0  \n",
              "3   0   0  \n",
              "4   0   0  \n",
              "\n",
              "[5 rows x 61 columns]"
            ]
          },
          "metadata": {
            "tags": []
          },
          "execution_count": 30
        }
      ]
    },
    {
      "metadata": {
        "id": "jPcH1IJ-elGV",
        "colab_type": "code",
        "colab": {
          "base_uri": "https://localhost:8080/",
          "height": 34
        },
        "outputId": "db2d2d16-1cb7-48cf-fc8a-6f1afa756be0"
      },
      "cell_type": "code",
      "source": [
        "data_req_new = pd.concat([data_req_new,dumy],axis=1)\n",
        "data_req_new.shape"
      ],
      "execution_count": 31,
      "outputs": [
        {
          "output_type": "execute_result",
          "data": {
            "text/plain": [
              "(34113, 81)"
            ]
          },
          "metadata": {
            "tags": []
          },
          "execution_count": 31
        }
      ]
    },
    {
      "metadata": {
        "id": "16uvqY9lelX-",
        "colab_type": "code",
        "colab": {
          "base_uri": "https://localhost:8080/",
          "height": 204
        },
        "outputId": "170fd48e-9712-459e-ce9d-199a3674755f"
      },
      "cell_type": "code",
      "source": [
        "dumy=pd.get_dummies(data_req['Submitted via'])\n",
        "dumy.head()"
      ],
      "execution_count": 32,
      "outputs": [
        {
          "output_type": "execute_result",
          "data": {
            "text/html": [
              "<div>\n",
              "<style scoped>\n",
              "    .dataframe tbody tr th:only-of-type {\n",
              "        vertical-align: middle;\n",
              "    }\n",
              "\n",
              "    .dataframe tbody tr th {\n",
              "        vertical-align: top;\n",
              "    }\n",
              "\n",
              "    .dataframe thead th {\n",
              "        text-align: right;\n",
              "    }\n",
              "</style>\n",
              "<table border=\"1\" class=\"dataframe\">\n",
              "  <thead>\n",
              "    <tr style=\"text-align: right;\">\n",
              "      <th></th>\n",
              "      <th>Email</th>\n",
              "      <th>Fax</th>\n",
              "      <th>Phone</th>\n",
              "      <th>Postal mail</th>\n",
              "      <th>Referral</th>\n",
              "      <th>Web</th>\n",
              "    </tr>\n",
              "  </thead>\n",
              "  <tbody>\n",
              "    <tr>\n",
              "      <th>0</th>\n",
              "      <td>0</td>\n",
              "      <td>0</td>\n",
              "      <td>0</td>\n",
              "      <td>0</td>\n",
              "      <td>0</td>\n",
              "      <td>1</td>\n",
              "    </tr>\n",
              "    <tr>\n",
              "      <th>1</th>\n",
              "      <td>0</td>\n",
              "      <td>0</td>\n",
              "      <td>0</td>\n",
              "      <td>0</td>\n",
              "      <td>1</td>\n",
              "      <td>0</td>\n",
              "    </tr>\n",
              "    <tr>\n",
              "      <th>2</th>\n",
              "      <td>0</td>\n",
              "      <td>0</td>\n",
              "      <td>0</td>\n",
              "      <td>0</td>\n",
              "      <td>0</td>\n",
              "      <td>1</td>\n",
              "    </tr>\n",
              "    <tr>\n",
              "      <th>3</th>\n",
              "      <td>0</td>\n",
              "      <td>0</td>\n",
              "      <td>0</td>\n",
              "      <td>0</td>\n",
              "      <td>0</td>\n",
              "      <td>1</td>\n",
              "    </tr>\n",
              "    <tr>\n",
              "      <th>4</th>\n",
              "      <td>0</td>\n",
              "      <td>0</td>\n",
              "      <td>0</td>\n",
              "      <td>0</td>\n",
              "      <td>0</td>\n",
              "      <td>1</td>\n",
              "    </tr>\n",
              "  </tbody>\n",
              "</table>\n",
              "</div>"
            ],
            "text/plain": [
              "   Email  Fax  Phone  Postal mail  Referral  Web\n",
              "0      0    0      0            0         0    1\n",
              "1      0    0      0            0         1    0\n",
              "2      0    0      0            0         0    1\n",
              "3      0    0      0            0         0    1\n",
              "4      0    0      0            0         0    1"
            ]
          },
          "metadata": {
            "tags": []
          },
          "execution_count": 32
        }
      ]
    },
    {
      "metadata": {
        "id": "UhQ66Af4elpF",
        "colab_type": "code",
        "colab": {
          "base_uri": "https://localhost:8080/",
          "height": 34
        },
        "outputId": "1b41db93-a6ae-496c-83b5-7bb32b493621"
      },
      "cell_type": "code",
      "source": [
        "data_req_new = pd.concat([data_req_new,dumy],axis=1)\n",
        "data_req_new.shape"
      ],
      "execution_count": 33,
      "outputs": [
        {
          "output_type": "execute_result",
          "data": {
            "text/plain": [
              "(34113, 87)"
            ]
          },
          "metadata": {
            "tags": []
          },
          "execution_count": 33
        }
      ]
    },
    {
      "metadata": {
        "id": "hMptGA6Zel89",
        "colab_type": "code",
        "colab": {
          "base_uri": "https://localhost:8080/",
          "height": 204
        },
        "outputId": "7fe3df4a-6e52-4e17-de43-27db25f9843e"
      },
      "cell_type": "code",
      "source": [
        "dumy=pd.get_dummies(data_req['Company response to consumer'])\n",
        "dumy.head()"
      ],
      "execution_count": 34,
      "outputs": [
        {
          "output_type": "execute_result",
          "data": {
            "text/html": [
              "<div>\n",
              "<style scoped>\n",
              "    .dataframe tbody tr th:only-of-type {\n",
              "        vertical-align: middle;\n",
              "    }\n",
              "\n",
              "    .dataframe tbody tr th {\n",
              "        vertical-align: top;\n",
              "    }\n",
              "\n",
              "    .dataframe thead th {\n",
              "        text-align: right;\n",
              "    }\n",
              "</style>\n",
              "<table border=\"1\" class=\"dataframe\">\n",
              "  <thead>\n",
              "    <tr style=\"text-align: right;\">\n",
              "      <th></th>\n",
              "      <th>Closed</th>\n",
              "      <th>Closed with explanation</th>\n",
              "      <th>Closed with monetary relief</th>\n",
              "      <th>Closed with non-monetary relief</th>\n",
              "      <th>Closed with relief</th>\n",
              "      <th>Closed without relief</th>\n",
              "      <th>In progress</th>\n",
              "      <th>Untimely response</th>\n",
              "    </tr>\n",
              "  </thead>\n",
              "  <tbody>\n",
              "    <tr>\n",
              "      <th>0</th>\n",
              "      <td>0</td>\n",
              "      <td>1</td>\n",
              "      <td>0</td>\n",
              "      <td>0</td>\n",
              "      <td>0</td>\n",
              "      <td>0</td>\n",
              "      <td>0</td>\n",
              "      <td>0</td>\n",
              "    </tr>\n",
              "    <tr>\n",
              "      <th>1</th>\n",
              "      <td>0</td>\n",
              "      <td>1</td>\n",
              "      <td>0</td>\n",
              "      <td>0</td>\n",
              "      <td>0</td>\n",
              "      <td>0</td>\n",
              "      <td>0</td>\n",
              "      <td>0</td>\n",
              "    </tr>\n",
              "    <tr>\n",
              "      <th>2</th>\n",
              "      <td>0</td>\n",
              "      <td>1</td>\n",
              "      <td>0</td>\n",
              "      <td>0</td>\n",
              "      <td>0</td>\n",
              "      <td>0</td>\n",
              "      <td>0</td>\n",
              "      <td>0</td>\n",
              "    </tr>\n",
              "    <tr>\n",
              "      <th>3</th>\n",
              "      <td>0</td>\n",
              "      <td>1</td>\n",
              "      <td>0</td>\n",
              "      <td>0</td>\n",
              "      <td>0</td>\n",
              "      <td>0</td>\n",
              "      <td>0</td>\n",
              "      <td>0</td>\n",
              "    </tr>\n",
              "    <tr>\n",
              "      <th>4</th>\n",
              "      <td>0</td>\n",
              "      <td>1</td>\n",
              "      <td>0</td>\n",
              "      <td>0</td>\n",
              "      <td>0</td>\n",
              "      <td>0</td>\n",
              "      <td>0</td>\n",
              "      <td>0</td>\n",
              "    </tr>\n",
              "  </tbody>\n",
              "</table>\n",
              "</div>"
            ],
            "text/plain": [
              "   Closed  Closed with explanation  Closed with monetary relief  \\\n",
              "0       0                        1                            0   \n",
              "1       0                        1                            0   \n",
              "2       0                        1                            0   \n",
              "3       0                        1                            0   \n",
              "4       0                        1                            0   \n",
              "\n",
              "   Closed with non-monetary relief  Closed with relief  Closed without relief  \\\n",
              "0                                0                   0                      0   \n",
              "1                                0                   0                      0   \n",
              "2                                0                   0                      0   \n",
              "3                                0                   0                      0   \n",
              "4                                0                   0                      0   \n",
              "\n",
              "   In progress  Untimely response  \n",
              "0            0                  0  \n",
              "1            0                  0  \n",
              "2            0                  0  \n",
              "3            0                  0  \n",
              "4            0                  0  "
            ]
          },
          "metadata": {
            "tags": []
          },
          "execution_count": 34
        }
      ]
    },
    {
      "metadata": {
        "id": "thY4GjzPemjl",
        "colab_type": "code",
        "colab": {
          "base_uri": "https://localhost:8080/",
          "height": 34
        },
        "outputId": "615e5fa4-2e9d-42df-cc06-e0bb2c5863ea"
      },
      "cell_type": "code",
      "source": [
        "data_req_new = pd.concat([data_req_new,dumy],axis=1)\n",
        "data_req_new.shape"
      ],
      "execution_count": 35,
      "outputs": [
        {
          "output_type": "execute_result",
          "data": {
            "text/plain": [
              "(34113, 95)"
            ]
          },
          "metadata": {
            "tags": []
          },
          "execution_count": 35
        }
      ]
    },
    {
      "metadata": {
        "id": "Eqkyccekem3V",
        "colab_type": "code",
        "colab": {
          "base_uri": "https://localhost:8080/",
          "height": 34
        },
        "outputId": "bb16977a-a18d-41d9-bd78-b569e432c25f"
      },
      "cell_type": "code",
      "source": [
        "data_req_new=data_req_new.drop(['Issue','State','Submitted via','Company response to consumer'], axis=1)\n",
        "data_req_new.shape"
      ],
      "execution_count": 36,
      "outputs": [
        {
          "output_type": "execute_result",
          "data": {
            "text/plain": [
              "(34113, 91)"
            ]
          },
          "metadata": {
            "tags": []
          },
          "execution_count": 36
        }
      ]
    },
    {
      "metadata": {
        "id": "U1vZhBzten_d",
        "colab_type": "code",
        "colab": {
          "base_uri": "https://localhost:8080/",
          "height": 136
        },
        "outputId": "5f264248-e135-433b-893d-eaa61891a405"
      },
      "cell_type": "code",
      "source": [
        "!pip install kmodes"
      ],
      "execution_count": 15,
      "outputs": [
        {
          "output_type": "stream",
          "text": [
            "Collecting kmodes\n",
            "  Downloading https://files.pythonhosted.org/packages/1a/d5/54e0efa2ddf33234761f8c35471f4a2280bb4cef44fd39fa08f1e663946a/kmodes-0.9-py2.py3-none-any.whl\n",
            "Requirement already satisfied: scikit-learn<0.20.0,>=0.19.0 in /usr/local/lib/python3.6/dist-packages (from kmodes) (0.19.2)\n",
            "Requirement already satisfied: numpy>=1.10.4 in /usr/local/lib/python3.6/dist-packages (from kmodes) (1.14.5)\n",
            "Requirement already satisfied: scipy>=0.13.3 in /usr/local/lib/python3.6/dist-packages (from kmodes) (0.19.1)\n",
            "Installing collected packages: kmodes\n",
            "Successfully installed kmodes-0.9\n"
          ],
          "name": "stdout"
        }
      ]
    },
    {
      "metadata": {
        "id": "AZYgFcLVeoSV",
        "colab_type": "code",
        "colab": {}
      },
      "cell_type": "code",
      "source": [
        "from kmodes.kmodes import KModes\n"
      ],
      "execution_count": 0,
      "outputs": []
    },
    {
      "metadata": {
        "id": "pD1bpd8ejtbN",
        "colab_type": "code",
        "colab": {}
      },
      "cell_type": "code",
      "source": [
        "km = KModes(n_clusters=10, init='Huang', n_init=5, verbose=1)"
      ],
      "execution_count": 0,
      "outputs": []
    },
    {
      "metadata": {
        "id": "qXH97qFGjtwE",
        "colab_type": "code",
        "colab": {
          "base_uri": "https://localhost:8080/",
          "height": 459
        },
        "outputId": "248ef9e0-704a-47b9-e842-59041fde5e00"
      },
      "cell_type": "code",
      "source": [
        "clusters = km.fit_predict(data_req_new)"
      ],
      "execution_count": 40,
      "outputs": [
        {
          "output_type": "stream",
          "text": [
            "Init: initializing centroids\n",
            "Init: initializing clusters\n",
            "Starting iterations...\n",
            "Run 1, iteration: 1/100, moves: 11795, cost: 81918.0\n",
            "Run 1, iteration: 2/100, moves: 232, cost: 81918.0\n",
            "Init: initializing centroids\n",
            "Init: initializing clusters\n",
            "Starting iterations...\n",
            "Run 2, iteration: 1/100, moves: 6677, cost: 79994.0\n",
            "Run 2, iteration: 2/100, moves: 0, cost: 79994.0\n",
            "Init: initializing centroids\n",
            "Init: initializing clusters\n",
            "Starting iterations...\n",
            "Run 3, iteration: 1/100, moves: 12183, cost: 83993.0\n",
            "Run 3, iteration: 2/100, moves: 2990, cost: 83993.0\n",
            "Init: initializing centroids\n",
            "Init: initializing clusters\n",
            "Starting iterations...\n",
            "Run 4, iteration: 1/100, moves: 6934, cost: 80538.0\n",
            "Run 4, iteration: 2/100, moves: 0, cost: 80538.0\n",
            "Init: initializing centroids\n",
            "Init: initializing clusters\n",
            "Starting iterations...\n",
            "Run 5, iteration: 1/100, moves: 4989, cost: 80935.0\n",
            "Run 5, iteration: 2/100, moves: 0, cost: 80935.0\n",
            "Best run was number 2\n"
          ],
          "name": "stdout"
        }
      ]
    },
    {
      "metadata": {
        "id": "ENqVdMQFjuMU",
        "colab_type": "code",
        "colab": {
          "base_uri": "https://localhost:8080/",
          "height": 527
        },
        "outputId": "a6851e54-5b46-43bd-bb12-bb6e5b737fff"
      },
      "cell_type": "code",
      "source": [
        "print(km.cluster_centroids_)"
      ],
      "execution_count": 44,
      "outputs": [
        {
          "output_type": "stream",
          "text": [
            "[[Timedelta('1 days 00:00:00') 0 0 0 0 0 0 0 1 0 0 0 0 0 0 0 0 0 0 0 0 0\n",
            "  0 0 0 0 0 0 0 0 0 0 0 0 0 0 0 0 0 0 0 0 0 0 0 0 0 0 0 0 0 0 0 0 0 0 0 0\n",
            "  0 0 0 0 0 0 0 0 0 0 0 0 0 0 0 0 0 0 0 0 0 0 0 0 1 0 1 0 0 0 0 0 0]\n",
            " [Timedelta('0 days 00:00:00') 0 0 0 0 0 0 0 1 0 0 0 0 0 0 0 0 0 0 0 0 0\n",
            "  0 0 0 0 0 0 0 0 0 0 0 0 0 0 0 0 0 0 0 0 0 0 0 0 0 0 0 0 0 0 0 0 0 0 0 0\n",
            "  0 0 0 0 0 0 0 0 0 0 0 0 0 0 0 0 0 0 0 0 0 0 0 0 1 0 1 0 0 0 0 0 0]\n",
            " [Timedelta('1 days 00:00:00') 0 0 0 0 0 0 0 1 0 0 0 0 0 0 0 0 0 0 0 0 0\n",
            "  0 0 0 0 0 0 0 0 0 0 0 0 0 0 0 0 0 0 0 0 0 0 0 0 0 0 0 0 0 0 0 0 0 0 0 0\n",
            "  0 0 0 0 0 0 0 0 0 0 0 0 0 0 0 0 0 0 0 0 0 0 0 1 0 0 0 0 0 0 0 0 0]\n",
            " [Timedelta('0 days 00:00:00') 0 0 0 0 0 0 0 1 0 0 0 0 0 0 0 0 0 0 0 0 0\n",
            "  0 0 1 0 0 0 0 0 0 0 0 0 0 0 0 0 0 0 0 0 0 0 0 0 0 0 0 0 0 0 0 0 0 0 0 0\n",
            "  0 0 0 0 0 0 0 0 0 0 0 0 0 0 0 0 0 0 0 0 0 0 0 0 1 0 1 0 0 0 0 0 0]\n",
            " [Timedelta('1 days 00:00:00') 0 0 0 0 0 0 0 0 1 0 0 0 0 0 0 0 0 0 0 0 0\n",
            "  0 0 0 0 0 0 0 0 0 0 0 0 0 0 0 0 0 0 0 0 0 0 0 0 0 0 0 0 0 0 0 0 0 0 0 0\n",
            "  0 0 0 0 0 0 0 0 0 0 0 0 0 0 0 0 0 0 0 0 0 0 0 0 0 0 1 0 0 0 0 0 0]\n",
            " [Timedelta('0 days 00:00:00') 0 0 0 0 0 0 0 1 0 0 0 0 0 0 0 0 0 0 0 0 0\n",
            "  0 0 0 0 0 0 0 0 0 0 0 0 0 0 0 0 0 0 0 0 0 0 0 0 0 0 0 0 0 0 0 0 1 0 0 0\n",
            "  0 0 0 0 0 0 0 0 0 0 0 0 0 0 0 0 0 0 0 0 0 0 0 0 1 0 1 0 0 0 0 0 0]\n",
            " [Timedelta('0 days 00:00:00') 1 0 0 0 0 0 0 0 0 0 0 0 0 0 0 0 0 0 0 0 0\n",
            "  0 0 0 0 0 0 0 0 0 0 0 0 0 0 0 0 0 0 0 0 0 0 0 0 0 0 0 0 0 0 0 0 0 0 0 0\n",
            "  0 0 0 0 0 0 0 0 0 0 0 0 0 0 0 0 0 0 0 0 0 0 0 0 1 0 1 0 0 0 0 0 0]\n",
            " [Timedelta('0 days 00:00:00') 0 0 0 0 0 0 0 0 1 0 0 0 0 0 0 0 0 0 0 0 0\n",
            "  0 0 0 0 0 0 0 0 0 0 0 0 0 0 0 0 0 0 0 0 0 0 0 0 0 0 0 0 0 0 0 0 0 0 0 0\n",
            "  0 0 0 0 0 0 0 0 0 0 0 0 0 0 0 0 0 0 0 0 0 0 0 0 1 0 1 0 0 0 0 0 0]\n",
            " [Timedelta('2 days 00:00:00') 0 0 0 0 0 0 0 1 0 0 0 0 0 0 0 0 0 0 0 0 0\n",
            "  0 0 0 0 0 0 0 0 0 0 0 0 0 0 0 0 0 0 0 0 0 0 0 0 0 0 0 0 0 0 0 0 0 0 0 0\n",
            "  0 0 0 0 0 0 0 0 0 0 0 0 0 0 0 0 0 0 0 0 0 0 0 1 0 0 1 0 0 0 0 0 0]\n",
            " [Timedelta('0 days 00:00:00') 0 0 0 0 0 0 0 0 0 0 0 0 1 0 0 0 0 0 0 0 0\n",
            "  0 0 0 0 0 0 0 0 0 0 0 0 0 0 0 0 0 0 0 0 0 0 0 0 0 0 0 0 0 0 0 0 0 0 0 0\n",
            "  0 0 0 0 0 0 0 0 0 0 0 0 0 0 0 0 0 0 0 0 0 0 0 0 1 0 1 0 0 0 0 0 0]]\n"
          ],
          "name": "stdout"
        }
      ]
    },
    {
      "metadata": {
        "id": "xmUGtPPflvoK",
        "colab_type": "code",
        "colab": {}
      },
      "cell_type": "code",
      "source": [
        "clusters=clusters.reshape(34113,1)"
      ],
      "execution_count": 0,
      "outputs": []
    },
    {
      "metadata": {
        "id": "0dlikXo_lv8J",
        "colab_type": "code",
        "colab": {}
      },
      "cell_type": "code",
      "source": [
        "class_cluster = pd.DataFrame(clusters,columns=['Class cluster'])"
      ],
      "execution_count": 0,
      "outputs": []
    },
    {
      "metadata": {
        "id": "kJAWqwiHlwPB",
        "colab_type": "code",
        "colab": {
          "base_uri": "https://localhost:8080/",
          "height": 204
        },
        "outputId": "adb3c88d-e666-422c-bb26-aeb099d3722e"
      },
      "cell_type": "code",
      "source": [
        "class_cluster.head()"
      ],
      "execution_count": 47,
      "outputs": [
        {
          "output_type": "execute_result",
          "data": {
            "text/html": [
              "<div>\n",
              "<style scoped>\n",
              "    .dataframe tbody tr th:only-of-type {\n",
              "        vertical-align: middle;\n",
              "    }\n",
              "\n",
              "    .dataframe tbody tr th {\n",
              "        vertical-align: top;\n",
              "    }\n",
              "\n",
              "    .dataframe thead th {\n",
              "        text-align: right;\n",
              "    }\n",
              "</style>\n",
              "<table border=\"1\" class=\"dataframe\">\n",
              "  <thead>\n",
              "    <tr style=\"text-align: right;\">\n",
              "      <th></th>\n",
              "      <th>Class cluster</th>\n",
              "    </tr>\n",
              "  </thead>\n",
              "  <tbody>\n",
              "    <tr>\n",
              "      <th>0</th>\n",
              "      <td>5</td>\n",
              "    </tr>\n",
              "    <tr>\n",
              "      <th>1</th>\n",
              "      <td>8</td>\n",
              "    </tr>\n",
              "    <tr>\n",
              "      <th>2</th>\n",
              "      <td>6</td>\n",
              "    </tr>\n",
              "    <tr>\n",
              "      <th>3</th>\n",
              "      <td>3</td>\n",
              "    </tr>\n",
              "    <tr>\n",
              "      <th>4</th>\n",
              "      <td>6</td>\n",
              "    </tr>\n",
              "  </tbody>\n",
              "</table>\n",
              "</div>"
            ],
            "text/plain": [
              "   Class cluster\n",
              "0              5\n",
              "1              8\n",
              "2              6\n",
              "3              3\n",
              "4              6"
            ]
          },
          "metadata": {
            "tags": []
          },
          "execution_count": 47
        }
      ]
    },
    {
      "metadata": {
        "id": "O4tZRJ5zlwgS",
        "colab_type": "code",
        "colab": {
          "base_uri": "https://localhost:8080/",
          "height": 440
        },
        "outputId": "455aa381-035a-495d-d96b-9319a8536f3b"
      },
      "cell_type": "code",
      "source": [
        "data_req_new.head()"
      ],
      "execution_count": 48,
      "outputs": [
        {
          "output_type": "execute_result",
          "data": {
            "text/html": [
              "<div>\n",
              "<style scoped>\n",
              "    .dataframe tbody tr th:only-of-type {\n",
              "        vertical-align: middle;\n",
              "    }\n",
              "\n",
              "    .dataframe tbody tr th {\n",
              "        vertical-align: top;\n",
              "    }\n",
              "\n",
              "    .dataframe thead th {\n",
              "        text-align: right;\n",
              "    }\n",
              "</style>\n",
              "<table border=\"1\" class=\"dataframe\">\n",
              "  <thead>\n",
              "    <tr style=\"text-align: right;\">\n",
              "      <th></th>\n",
              "      <th>Total Days</th>\n",
              "      <th>Application, originator, mortgage broker</th>\n",
              "      <th>Applying for a mortgage</th>\n",
              "      <th>Applying for a mortgage or refinancing an existing mortgage</th>\n",
              "      <th>Closing on a mortgage</th>\n",
              "      <th>Credit decision / Underwriting</th>\n",
              "      <th>Improper use of your report</th>\n",
              "      <th>Incorrect information on your report</th>\n",
              "      <th>Loan modification,collection,foreclosure</th>\n",
              "      <th>Loan servicing, payments, escrow account</th>\n",
              "      <th>...</th>\n",
              "      <th>Referral</th>\n",
              "      <th>Web</th>\n",
              "      <th>Closed</th>\n",
              "      <th>Closed with explanation</th>\n",
              "      <th>Closed with monetary relief</th>\n",
              "      <th>Closed with non-monetary relief</th>\n",
              "      <th>Closed with relief</th>\n",
              "      <th>Closed without relief</th>\n",
              "      <th>In progress</th>\n",
              "      <th>Untimely response</th>\n",
              "    </tr>\n",
              "  </thead>\n",
              "  <tbody>\n",
              "    <tr>\n",
              "      <th>17</th>\n",
              "      <td>0 days</td>\n",
              "      <td>0</td>\n",
              "      <td>0</td>\n",
              "      <td>0</td>\n",
              "      <td>0</td>\n",
              "      <td>0</td>\n",
              "      <td>0</td>\n",
              "      <td>0</td>\n",
              "      <td>1</td>\n",
              "      <td>0</td>\n",
              "      <td>...</td>\n",
              "      <td>0</td>\n",
              "      <td>1</td>\n",
              "      <td>0</td>\n",
              "      <td>1</td>\n",
              "      <td>0</td>\n",
              "      <td>0</td>\n",
              "      <td>0</td>\n",
              "      <td>0</td>\n",
              "      <td>0</td>\n",
              "      <td>0</td>\n",
              "    </tr>\n",
              "    <tr>\n",
              "      <th>20</th>\n",
              "      <td>2 days</td>\n",
              "      <td>0</td>\n",
              "      <td>0</td>\n",
              "      <td>0</td>\n",
              "      <td>0</td>\n",
              "      <td>0</td>\n",
              "      <td>0</td>\n",
              "      <td>0</td>\n",
              "      <td>1</td>\n",
              "      <td>0</td>\n",
              "      <td>...</td>\n",
              "      <td>1</td>\n",
              "      <td>0</td>\n",
              "      <td>0</td>\n",
              "      <td>1</td>\n",
              "      <td>0</td>\n",
              "      <td>0</td>\n",
              "      <td>0</td>\n",
              "      <td>0</td>\n",
              "      <td>0</td>\n",
              "      <td>0</td>\n",
              "    </tr>\n",
              "    <tr>\n",
              "      <th>24</th>\n",
              "      <td>0 days</td>\n",
              "      <td>1</td>\n",
              "      <td>0</td>\n",
              "      <td>0</td>\n",
              "      <td>0</td>\n",
              "      <td>0</td>\n",
              "      <td>0</td>\n",
              "      <td>0</td>\n",
              "      <td>0</td>\n",
              "      <td>0</td>\n",
              "      <td>...</td>\n",
              "      <td>0</td>\n",
              "      <td>1</td>\n",
              "      <td>0</td>\n",
              "      <td>1</td>\n",
              "      <td>0</td>\n",
              "      <td>0</td>\n",
              "      <td>0</td>\n",
              "      <td>0</td>\n",
              "      <td>0</td>\n",
              "      <td>0</td>\n",
              "    </tr>\n",
              "    <tr>\n",
              "      <th>34</th>\n",
              "      <td>-1 days</td>\n",
              "      <td>0</td>\n",
              "      <td>0</td>\n",
              "      <td>0</td>\n",
              "      <td>0</td>\n",
              "      <td>0</td>\n",
              "      <td>0</td>\n",
              "      <td>0</td>\n",
              "      <td>0</td>\n",
              "      <td>0</td>\n",
              "      <td>...</td>\n",
              "      <td>0</td>\n",
              "      <td>1</td>\n",
              "      <td>0</td>\n",
              "      <td>1</td>\n",
              "      <td>0</td>\n",
              "      <td>0</td>\n",
              "      <td>0</td>\n",
              "      <td>0</td>\n",
              "      <td>0</td>\n",
              "      <td>0</td>\n",
              "    </tr>\n",
              "    <tr>\n",
              "      <th>37</th>\n",
              "      <td>1 days</td>\n",
              "      <td>1</td>\n",
              "      <td>0</td>\n",
              "      <td>0</td>\n",
              "      <td>0</td>\n",
              "      <td>0</td>\n",
              "      <td>0</td>\n",
              "      <td>0</td>\n",
              "      <td>0</td>\n",
              "      <td>0</td>\n",
              "      <td>...</td>\n",
              "      <td>0</td>\n",
              "      <td>1</td>\n",
              "      <td>0</td>\n",
              "      <td>1</td>\n",
              "      <td>0</td>\n",
              "      <td>0</td>\n",
              "      <td>0</td>\n",
              "      <td>0</td>\n",
              "      <td>0</td>\n",
              "      <td>0</td>\n",
              "    </tr>\n",
              "  </tbody>\n",
              "</table>\n",
              "<p>5 rows × 91 columns</p>\n",
              "</div>"
            ],
            "text/plain": [
              "   Total Days  Application, originator, mortgage broker  \\\n",
              "17     0 days                                         0   \n",
              "20     2 days                                         0   \n",
              "24     0 days                                         1   \n",
              "34    -1 days                                         0   \n",
              "37     1 days                                         1   \n",
              "\n",
              "    Applying for a mortgage  \\\n",
              "17                        0   \n",
              "20                        0   \n",
              "24                        0   \n",
              "34                        0   \n",
              "37                        0   \n",
              "\n",
              "    Applying for a mortgage or refinancing an existing mortgage  \\\n",
              "17                                                  0             \n",
              "20                                                  0             \n",
              "24                                                  0             \n",
              "34                                                  0             \n",
              "37                                                  0             \n",
              "\n",
              "    Closing on a mortgage  Credit decision / Underwriting  \\\n",
              "17                      0                               0   \n",
              "20                      0                               0   \n",
              "24                      0                               0   \n",
              "34                      0                               0   \n",
              "37                      0                               0   \n",
              "\n",
              "    Improper use of your report  Incorrect information on your report  \\\n",
              "17                            0                                     0   \n",
              "20                            0                                     0   \n",
              "24                            0                                     0   \n",
              "34                            0                                     0   \n",
              "37                            0                                     0   \n",
              "\n",
              "    Loan modification,collection,foreclosure  \\\n",
              "17                                         1   \n",
              "20                                         1   \n",
              "24                                         0   \n",
              "34                                         0   \n",
              "37                                         0   \n",
              "\n",
              "    Loan servicing, payments, escrow account        ...          Referral  \\\n",
              "17                                         0        ...                 0   \n",
              "20                                         0        ...                 1   \n",
              "24                                         0        ...                 0   \n",
              "34                                         0        ...                 0   \n",
              "37                                         0        ...                 0   \n",
              "\n",
              "    Web  Closed  Closed with explanation  Closed with monetary relief  \\\n",
              "17    1       0                        1                            0   \n",
              "20    0       0                        1                            0   \n",
              "24    1       0                        1                            0   \n",
              "34    1       0                        1                            0   \n",
              "37    1       0                        1                            0   \n",
              "\n",
              "    Closed with non-monetary relief  Closed with relief  \\\n",
              "17                                0                   0   \n",
              "20                                0                   0   \n",
              "24                                0                   0   \n",
              "34                                0                   0   \n",
              "37                                0                   0   \n",
              "\n",
              "    Closed without relief  In progress  Untimely response  \n",
              "17                      0            0                  0  \n",
              "20                      0            0                  0  \n",
              "24                      0            0                  0  \n",
              "34                      0            0                  0  \n",
              "37                      0            0                  0  \n",
              "\n",
              "[5 rows x 91 columns]"
            ]
          },
          "metadata": {
            "tags": []
          },
          "execution_count": 48
        }
      ]
    },
    {
      "metadata": {
        "id": "z1gFdwjSp9-h",
        "colab_type": "code",
        "colab": {
          "base_uri": "https://localhost:8080/",
          "height": 440
        },
        "outputId": "c5990307-68d0-41cc-941c-c2a13fc78f44"
      },
      "cell_type": "code",
      "source": [
        "#data_req_new.index = range(data_req_new.shape[0])\n",
        "data_req_new.head()"
      ],
      "execution_count": 49,
      "outputs": [
        {
          "output_type": "execute_result",
          "data": {
            "text/html": [
              "<div>\n",
              "<style scoped>\n",
              "    .dataframe tbody tr th:only-of-type {\n",
              "        vertical-align: middle;\n",
              "    }\n",
              "\n",
              "    .dataframe tbody tr th {\n",
              "        vertical-align: top;\n",
              "    }\n",
              "\n",
              "    .dataframe thead th {\n",
              "        text-align: right;\n",
              "    }\n",
              "</style>\n",
              "<table border=\"1\" class=\"dataframe\">\n",
              "  <thead>\n",
              "    <tr style=\"text-align: right;\">\n",
              "      <th></th>\n",
              "      <th>Total Days</th>\n",
              "      <th>Application, originator, mortgage broker</th>\n",
              "      <th>Applying for a mortgage</th>\n",
              "      <th>Applying for a mortgage or refinancing an existing mortgage</th>\n",
              "      <th>Closing on a mortgage</th>\n",
              "      <th>Credit decision / Underwriting</th>\n",
              "      <th>Improper use of your report</th>\n",
              "      <th>Incorrect information on your report</th>\n",
              "      <th>Loan modification,collection,foreclosure</th>\n",
              "      <th>Loan servicing, payments, escrow account</th>\n",
              "      <th>...</th>\n",
              "      <th>Referral</th>\n",
              "      <th>Web</th>\n",
              "      <th>Closed</th>\n",
              "      <th>Closed with explanation</th>\n",
              "      <th>Closed with monetary relief</th>\n",
              "      <th>Closed with non-monetary relief</th>\n",
              "      <th>Closed with relief</th>\n",
              "      <th>Closed without relief</th>\n",
              "      <th>In progress</th>\n",
              "      <th>Untimely response</th>\n",
              "    </tr>\n",
              "  </thead>\n",
              "  <tbody>\n",
              "    <tr>\n",
              "      <th>0</th>\n",
              "      <td>0 days</td>\n",
              "      <td>0</td>\n",
              "      <td>0</td>\n",
              "      <td>0</td>\n",
              "      <td>0</td>\n",
              "      <td>0</td>\n",
              "      <td>0</td>\n",
              "      <td>0</td>\n",
              "      <td>1</td>\n",
              "      <td>0</td>\n",
              "      <td>...</td>\n",
              "      <td>0</td>\n",
              "      <td>1</td>\n",
              "      <td>0</td>\n",
              "      <td>1</td>\n",
              "      <td>0</td>\n",
              "      <td>0</td>\n",
              "      <td>0</td>\n",
              "      <td>0</td>\n",
              "      <td>0</td>\n",
              "      <td>0</td>\n",
              "    </tr>\n",
              "    <tr>\n",
              "      <th>1</th>\n",
              "      <td>2 days</td>\n",
              "      <td>0</td>\n",
              "      <td>0</td>\n",
              "      <td>0</td>\n",
              "      <td>0</td>\n",
              "      <td>0</td>\n",
              "      <td>0</td>\n",
              "      <td>0</td>\n",
              "      <td>1</td>\n",
              "      <td>0</td>\n",
              "      <td>...</td>\n",
              "      <td>1</td>\n",
              "      <td>0</td>\n",
              "      <td>0</td>\n",
              "      <td>1</td>\n",
              "      <td>0</td>\n",
              "      <td>0</td>\n",
              "      <td>0</td>\n",
              "      <td>0</td>\n",
              "      <td>0</td>\n",
              "      <td>0</td>\n",
              "    </tr>\n",
              "    <tr>\n",
              "      <th>2</th>\n",
              "      <td>0 days</td>\n",
              "      <td>1</td>\n",
              "      <td>0</td>\n",
              "      <td>0</td>\n",
              "      <td>0</td>\n",
              "      <td>0</td>\n",
              "      <td>0</td>\n",
              "      <td>0</td>\n",
              "      <td>0</td>\n",
              "      <td>0</td>\n",
              "      <td>...</td>\n",
              "      <td>0</td>\n",
              "      <td>1</td>\n",
              "      <td>0</td>\n",
              "      <td>1</td>\n",
              "      <td>0</td>\n",
              "      <td>0</td>\n",
              "      <td>0</td>\n",
              "      <td>0</td>\n",
              "      <td>0</td>\n",
              "      <td>0</td>\n",
              "    </tr>\n",
              "    <tr>\n",
              "      <th>3</th>\n",
              "      <td>-1 days</td>\n",
              "      <td>0</td>\n",
              "      <td>0</td>\n",
              "      <td>0</td>\n",
              "      <td>0</td>\n",
              "      <td>0</td>\n",
              "      <td>0</td>\n",
              "      <td>0</td>\n",
              "      <td>0</td>\n",
              "      <td>0</td>\n",
              "      <td>...</td>\n",
              "      <td>0</td>\n",
              "      <td>1</td>\n",
              "      <td>0</td>\n",
              "      <td>1</td>\n",
              "      <td>0</td>\n",
              "      <td>0</td>\n",
              "      <td>0</td>\n",
              "      <td>0</td>\n",
              "      <td>0</td>\n",
              "      <td>0</td>\n",
              "    </tr>\n",
              "    <tr>\n",
              "      <th>4</th>\n",
              "      <td>1 days</td>\n",
              "      <td>1</td>\n",
              "      <td>0</td>\n",
              "      <td>0</td>\n",
              "      <td>0</td>\n",
              "      <td>0</td>\n",
              "      <td>0</td>\n",
              "      <td>0</td>\n",
              "      <td>0</td>\n",
              "      <td>0</td>\n",
              "      <td>...</td>\n",
              "      <td>0</td>\n",
              "      <td>1</td>\n",
              "      <td>0</td>\n",
              "      <td>1</td>\n",
              "      <td>0</td>\n",
              "      <td>0</td>\n",
              "      <td>0</td>\n",
              "      <td>0</td>\n",
              "      <td>0</td>\n",
              "      <td>0</td>\n",
              "    </tr>\n",
              "  </tbody>\n",
              "</table>\n",
              "<p>5 rows × 91 columns</p>\n",
              "</div>"
            ],
            "text/plain": [
              "  Total Days  Application, originator, mortgage broker  \\\n",
              "0     0 days                                         0   \n",
              "1     2 days                                         0   \n",
              "2     0 days                                         1   \n",
              "3    -1 days                                         0   \n",
              "4     1 days                                         1   \n",
              "\n",
              "   Applying for a mortgage  \\\n",
              "0                        0   \n",
              "1                        0   \n",
              "2                        0   \n",
              "3                        0   \n",
              "4                        0   \n",
              "\n",
              "   Applying for a mortgage or refinancing an existing mortgage  \\\n",
              "0                                                  0             \n",
              "1                                                  0             \n",
              "2                                                  0             \n",
              "3                                                  0             \n",
              "4                                                  0             \n",
              "\n",
              "   Closing on a mortgage  Credit decision / Underwriting  \\\n",
              "0                      0                               0   \n",
              "1                      0                               0   \n",
              "2                      0                               0   \n",
              "3                      0                               0   \n",
              "4                      0                               0   \n",
              "\n",
              "   Improper use of your report  Incorrect information on your report  \\\n",
              "0                            0                                     0   \n",
              "1                            0                                     0   \n",
              "2                            0                                     0   \n",
              "3                            0                                     0   \n",
              "4                            0                                     0   \n",
              "\n",
              "   Loan modification,collection,foreclosure  \\\n",
              "0                                         1   \n",
              "1                                         1   \n",
              "2                                         0   \n",
              "3                                         0   \n",
              "4                                         0   \n",
              "\n",
              "   Loan servicing, payments, escrow account        ...          Referral  Web  \\\n",
              "0                                         0        ...                 0    1   \n",
              "1                                         0        ...                 1    0   \n",
              "2                                         0        ...                 0    1   \n",
              "3                                         0        ...                 0    1   \n",
              "4                                         0        ...                 0    1   \n",
              "\n",
              "   Closed  Closed with explanation  Closed with monetary relief  \\\n",
              "0       0                        1                            0   \n",
              "1       0                        1                            0   \n",
              "2       0                        1                            0   \n",
              "3       0                        1                            0   \n",
              "4       0                        1                            0   \n",
              "\n",
              "   Closed with non-monetary relief  Closed with relief  Closed without relief  \\\n",
              "0                                0                   0                      0   \n",
              "1                                0                   0                      0   \n",
              "2                                0                   0                      0   \n",
              "3                                0                   0                      0   \n",
              "4                                0                   0                      0   \n",
              "\n",
              "   In progress  Untimely response  \n",
              "0            0                  0  \n",
              "1            0                  0  \n",
              "2            0                  0  \n",
              "3            0                  0  \n",
              "4            0                  0  \n",
              "\n",
              "[5 rows x 91 columns]"
            ]
          },
          "metadata": {
            "tags": []
          },
          "execution_count": 49
        }
      ]
    },
    {
      "metadata": {
        "id": "mjOj7qIUlw15",
        "colab_type": "code",
        "colab": {}
      },
      "cell_type": "code",
      "source": [
        "data_req_new = pd.concat([data_req_new,class_cluster],axis=1)"
      ],
      "execution_count": 0,
      "outputs": []
    },
    {
      "metadata": {
        "id": "H54j4PJMlxHp",
        "colab_type": "code",
        "colab": {
          "base_uri": "https://localhost:8080/",
          "height": 163
        },
        "outputId": "92e2ee6f-8f28-4259-e999-b3adc39ea58d"
      },
      "cell_type": "code",
      "source": [
        "data_req_new.head()"
      ],
      "execution_count": 10,
      "outputs": [
        {
          "output_type": "error",
          "ename": "NameError",
          "evalue": "ignored",
          "traceback": [
            "\u001b[0;31m---------------------------------------------------------------------------\u001b[0m",
            "\u001b[0;31mNameError\u001b[0m                                 Traceback (most recent call last)",
            "\u001b[0;32m<ipython-input-10-094aec57140a>\u001b[0m in \u001b[0;36m<module>\u001b[0;34m()\u001b[0m\n\u001b[0;32m----> 1\u001b[0;31m \u001b[0mdata_req_new\u001b[0m\u001b[0;34m.\u001b[0m\u001b[0mhead\u001b[0m\u001b[0;34m(\u001b[0m\u001b[0;34m)\u001b[0m\u001b[0;34m\u001b[0m\u001b[0m\n\u001b[0m",
            "\u001b[0;31mNameError\u001b[0m: name 'data_req_new' is not defined"
          ]
        }
      ]
    },
    {
      "metadata": {
        "id": "Uxgb0NhKvl6g",
        "colab_type": "code",
        "colab": {}
      },
      "cell_type": "code",
      "source": [
        ""
      ],
      "execution_count": 0,
      "outputs": []
    }
  ]
}